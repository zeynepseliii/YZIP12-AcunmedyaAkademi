{
 "cells": [
  {
   "cell_type": "markdown",
   "id": "7b603d15-46ee-4983-96ad-9c3b4e430f69",
   "metadata": {},
   "source": [
    "# OCR NEDİR?\n",
    "\n",
    "OCR (Optik Karakter Tanıma), görüntülerdeki metinleri dijital ve düzenlenebilir metin formatına dönüştüren bir teknolojidir. Örneğin, taranmış belgeler, makbuzlar veya el yazısı notlar OCR sayesinde bilgisayar tarafından okunabilir hale gelir. Bu teknoloji, özellikle belge yönetimi, veri girişi otomasyonu ve arama işlevleri için büyük kolaylık sağlar.\n",
    "\n",
    "\n",
    "\n",
    "## 📌 Proje Açıklaması\n",
    "Bu proje, görüntülerdeki metinleri tanımak ve dijital ortama aktarmak için **Tesseract OCR** kütüphanesini kullanmaktadır. Python ile geliştirilmiş olup, kullanıcıların yüklediği resimler üzerinden metin çıkarımı yapmaktadır.\n",
    "\n",
    "---\n",
    "\n",
    "## 🛠 Gerekli Kütüphaneler\n",
    "```bash\n",
    "pip install pytesseract opencv-python"
   ]
  },
  {
   "cell_type": "code",
   "execution_count": null,
   "id": "a2c6a8a0-be2f-434d-8211-95bebcf8e425",
   "metadata": {},
   "outputs": [],
   "source": [
    "import cv2\n",
    "import pytesseract\n",
    "\n",
    "# Görüntüyü yükleme\n",
    "image = cv2.imread(\"example_image.png\")\n",
    "\n",
    "# Görüntüyü gri tona çevirme\n",
    "gray = cv2.cvtColor(image, cv2.COLOR_BGR2GRAY)\n",
    "\n",
    "# OCR işlemi\n",
    "text = pytesseract.image_to_string(gray, lang='eng')\n",
    "\n",
    "print(\"Tanımlanan Metin:\")\n",
    "print(text)"
   ]
  }
 ],
 "metadata": {
  "kernelspec": {
   "display_name": "Python 3 (ipykernel)",
   "language": "python",
   "name": "python3"
  },
  "language_info": {
   "codemirror_mode": {
    "name": "ipython",
    "version": 3
   },
   "file_extension": ".py",
   "mimetype": "text/x-python",
   "name": "python",
   "nbconvert_exporter": "python",
   "pygments_lexer": "ipython3",
   "version": "3.12.7"
  }
 },
 "nbformat": 4,
 "nbformat_minor": 5
}
